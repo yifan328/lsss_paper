{
 "cells": [
  {
   "cell_type": "code",
   "execution_count": 1,
   "id": "ecb2827c",
   "metadata": {},
   "outputs": [],
   "source": [
    "import os\n",
    "from typing import List, Tuple, Union\n",
    "from dataclasses import dataclass\n",
    "import numpy as np\n",
    "from scipy.interpolate import PPoly"
   ]
  },
  {
   "cell_type": "code",
   "execution_count": 2,
   "id": "fe60bc9e",
   "metadata": {},
   "outputs": [
    {
     "name": "stdout",
     "output_type": "stream",
     "text": [
      "gcc (Homebrew GCC 11.2.0_3) 11.2.0\n",
      "Copyright (C) 2021 Free Software Foundation, Inc.\n",
      "This is free software; see the source for copying conditions.  There is NO\n",
      "warranty; not even for MERCHANTABILITY or FITNESS FOR A PARTICULAR PURPOSE.\n",
      "\n"
     ]
    },
    {
     "data": {
      "text/plain": [
       "0"
      ]
     },
     "execution_count": 2,
     "metadata": {},
     "output_type": "execute_result"
    }
   ],
   "source": [
    "import os\n",
    "os.system(\"gcc --version\")"
   ]
  },
  {
   "cell_type": "code",
   "execution_count": 3,
   "id": "0e85d6e1",
   "metadata": {},
   "outputs": [
    {
     "data": {
      "text/plain": [
       "(None, <pyximport.pyximport.PyxImporter at 0x11ffd8640>)"
      ]
     },
     "execution_count": 3,
     "metadata": {},
     "output_type": "execute_result"
    }
   ],
   "source": [
    "import pyximport\n",
    "pyximport.install()"
   ]
  },
  {
   "cell_type": "code",
   "execution_count": 2,
   "id": "bcd71b2e",
   "metadata": {},
   "outputs": [
    {
     "name": "stdout",
     "output_type": "stream",
     "text": [
      "3.10.0 (default, Jan 27 2022, 14:29:58) [Clang 13.0.0 (clang-1300.0.29.30)]\n"
     ]
    }
   ],
   "source": [
    "import sys\n",
    "sys.path\n",
    "print(sys.version)"
   ]
  },
  {
   "cell_type": "code",
   "execution_count": 3,
   "id": "3c47b5fa",
   "metadata": {},
   "outputs": [],
   "source": [
    "import _lsss"
   ]
  },
  {
   "cell_type": "code",
   "execution_count": 4,
   "id": "05b6c676",
   "metadata": {},
   "outputs": [],
   "source": [
    "from util import beta_from_V, alpha_beta, ls_hap, ls_dip"
   ]
  },
  {
   "cell_type": "code",
   "execution_count": 3,
   "id": "931f21bf",
   "metadata": {},
   "outputs": [],
   "source": [
    "import matplotlib.pyplot as plt\n",
    "plt.rcParams[\"figure.figsize\"] = [8, 5]"
   ]
  },
  {
   "cell_type": "code",
   "execution_count": 4,
   "id": "8e18c9b5",
   "metadata": {},
   "outputs": [],
   "source": [
    "import msprime as msp"
   ]
  },
  {
   "cell_type": "code",
   "execution_count": 9,
   "id": "22e52918",
   "metadata": {},
   "outputs": [],
   "source": [
    "import random"
   ]
  },
  {
   "cell_type": "code",
   "execution_count": 191,
   "id": "616bd1b8",
   "metadata": {
    "scrolled": true
   },
   "outputs": [
    {
     "data": {
      "text/plain": [
       "<Figure size 432x288 with 0 Axes>"
      ]
     },
     "metadata": {},
     "output_type": "display_data"
    }
   ],
   "source": [
    "import matplotlib.pyplot as plt\n",
    "import matplotlib as mpl\n",
    "mpl.style.use('seaborn-white')\n",
    "import seaborn as sns\n",
    "sns.despine()"
   ]
  },
  {
   "cell_type": "markdown",
   "id": "134f5898",
   "metadata": {},
   "source": [
    "Haploid Haplotype Imputation(uniformly random k)"
   ]
  },
  {
   "cell_type": "code",
   "execution_count": 101,
   "id": "b4b276a1",
   "metadata": {},
   "outputs": [
    {
     "data": {
      "image/png": "[encoded data removed]",
      "text/plain": [
       "<Figure size 576x360 with 1 Axes>"
      ]
     },
     "metadata": {},
     "output_type": "display_data"
    }
   ],
   "source": [
    "with open('results_alg1_updated/beta_y.pkl', 'rb') as f:\n",
    "        results = pickle.load(f)\n",
    "beta, y = results\n",
    "for i in np.arange(np.size(beta)-1):\n",
    "    x = np.linspace(beta[i],beta[i+1],10)\n",
    "    ys = y[i]*np.ones(np.size(x))\n",
    "    plt.plot(np.log1p(x), ys, color = 'C0')\n",
    "plt.plot(np.log1p(beta[-1]), y[-1], color='C0')\n",
    "plt.xlabel(r'$\\log(1+\\beta)$')\n",
    "plt.ylabel('imputation error')\n",
    "plt.tight_layout()\n",
    "plt.savefig('alg1_error.pdf')"
   ]
  },
  {
   "cell_type": "code",
   "execution_count": 455,
   "id": "3ef58823",
   "metadata": {},
   "outputs": [
    {
     "data": {
      "text/plain": [
       "1.5"
      ]
     },
     "execution_count": 455,
     "metadata": {},
     "output_type": "execute_result"
    }
   ],
   "source": [
    "beta[y.argmin()]"
   ]
  },
  {
   "cell_type": "code",
   "execution_count": 1008,
   "id": "309c53eb",
   "metadata": {},
   "outputs": [
    {
     "data": {
      "text/plain": [
       "(21,)"
      ]
     },
     "execution_count": 1008,
     "metadata": {},
     "output_type": "execute_result"
    }
   ],
   "source": [
    "np.unique(opt_imputed_beta).shape"
   ]
  },
  {
   "cell_type": "markdown",
   "id": "c6303bd1",
   "metadata": {},
   "source": [
    "seq = 1e8, panel=1e3, MAF>0.2"
   ]
  },
  {
   "cell_type": "code",
   "execution_count": 5,
   "id": "d1eb2cc6",
   "metadata": {},
   "outputs": [],
   "source": [
    "import pickle\n",
    "data = []\n",
    "betas = []\n",
    "interval = []\n",
    "error = []\n",
    "for array in range(500):\n",
    "    with open('results_alg1_updated/opt_imputed_beta%s.pkl' % array, 'rb') as f:\n",
    "        word = pickle.load(f)\n",
    "    data.append(word[0])\n",
    "    data.append(word[1])\n",
    "\n",
    "interval = [word[0] for word in data]\n",
    "betas = [word[0][word[1]] for word in data]\n",
    "error = [word[2] for word in data]"
   ]
  },
  {
   "cell_type": "code",
   "execution_count": 6,
   "id": "80e85ca8",
   "metadata": {},
   "outputs": [],
   "source": [
    "def rand_jitter(arr, seed):\n",
    "    stdev = .03 * (max(arr) - min(arr))\n",
    "    np.random.seed(seed)\n",
    "    return arr + np.random.randn(len(arr)) * stdev"
   ]
  },
  {
   "cell_type": "code",
   "execution_count": 8,
   "id": "cf944c41",
   "metadata": {},
   "outputs": [
    {
     "name": "stderr",
     "output_type": "stream",
     "text": [
      "/var/folders/w3/12x3qx1j0d15jv395lym1qs00000gn/T/ipykernel_25562/40744703.py:42: RuntimeWarning: invalid value encountered in log1p\n",
      "  w = np.log1p(unique_list[i][1]) - np.log1p(unique_list[i][0])\n",
      "/var/folders/w3/12x3qx1j0d15jv395lym1qs00000gn/T/ipykernel_25562/40744703.py:44: RuntimeWarning: invalid value encountered in log1p\n",
      "  plt.bar(x=np.log1p(unique_list[i][0]), height = h, width = w, align = 'edge', color = 'b', edgecolor = 'black',alpha=0.45, linestyle='-', linewidth=0.5)\n"
     ]
    },
    {
     "data": {
      "image/png": "[encoded data removed]",
      "text/plain": [
       "<Figure size 576x360 with 1 Axes>"
      ]
     },
     "metadata": {
      "needs_background": "light"
     },
     "output_type": "display_data"
    }
   ],
   "source": [
    "import pickle\n",
    "data = []\n",
    "betas = []\n",
    "interval = []\n",
    "error = []\n",
    "for array in range(500):\n",
    "    with open('results_alg1_updated/opt_imputed_beta%s.pkl' % array, 'rb') as f:\n",
    "        word = pickle.load(f)\n",
    "    data.append(word[0])\n",
    "    data.append(word[1])\n",
    "\n",
    "interval = [word[0] for word in data]\n",
    "betas = [word[0][word[1]] for word in data]\n",
    "error = [word[2] for word in data]\n",
    "\n",
    "unique_list = np.array(interval[0]).reshape(1,2)\n",
    "count = np.array([1])\n",
    "for i in range(1,np.shape(interval)[0]):\n",
    "\n",
    "        if 2 in np.sum(unique_list==interval[i], axis=1):\n",
    "            count[np.where(np.sum(unique_list==interval[i], axis=1)==2)] += 1\n",
    "        else:\n",
    "            unique_list = np.vstack((unique_list, interval[i]))\n",
    "            count = np.append(count, 1)\n",
    "assert(sum(count)==1000)\n",
    "            \n",
    "rho = 4e-4\n",
    "theta = 4e-4\n",
    "N = np.size(range(1, 1001))\n",
    "p_theta = (1-np.exp(-theta/N))/3\n",
    "p_rho = (1-np.exp(-rho/N))/N\n",
    "alpha_theta = -np.log(p_theta/(1 - 3*p_theta))\n",
    "beta_rho = -np.log(p_rho/(1 - N*p_rho))\n",
    "true_beta = beta_rho/alpha_theta\n",
    "plt.axvline(x=np.log1p(true_beta), color='r', linestyle='dashed', linewidth=2)\n",
    "plt.xlim([0, 3.5])\n",
    "plt.ylim([0, 360])\n",
    "plt.xlabel(r\"optimal $\\log(1+\\beta)$ interval per iteration\")\n",
    "plt.ylabel(r\"number of optimal interval\")\n",
    "for i in range(0, np.shape(unique_list)[0]):\n",
    "    unique_list[i] = rand_jitter(unique_list[i], i)\n",
    "    w = np.log1p(unique_list[i][1]) - np.log1p(unique_list[i][0])\n",
    "    h = count[i]\n",
    "    plt.bar(x=np.log1p(unique_list[i][0]), height = h, width = w, align = 'edge', color = 'b', edgecolor = 'black',alpha=0.45, linestyle='-', linewidth=0.5)\n",
    "\n",
    "plt.tight_layout()    \n",
    "plt.savefig('hist_alg1.pdf')"
   ]
  },
  {
   "cell_type": "code",
   "execution_count": 9,
   "id": "a0d430a5",
   "metadata": {},
   "outputs": [
    {
     "data": {
      "text/plain": [
       "0.57"
      ]
     },
     "execution_count": 9,
     "metadata": {},
     "output_type": "execute_result"
    }
   ],
   "source": [
    "rate = sum([int(word[0]<=true_beta<=word[1]) for word in interval])/1000\n",
    "rate"
   ]
  },
  {
   "cell_type": "code",
   "execution_count": 420,
   "id": "88b51494",
   "metadata": {},
   "outputs": [
    {
     "data": {
      "text/plain": [
       "0.57"
      ]
     },
     "execution_count": 420,
     "metadata": {},
     "output_type": "execute_result"
    }
   ],
   "source": [
    "# number of beta in the interval\n",
    "true_beta = 1.3669609157628595\n",
    "rate = sum([int(word[0]<=true_beta<=word[1]) for word in interval])/1000\n",
    "rate"
   ]
  },
  {
   "cell_type": "markdown",
   "id": "24ed7fea",
   "metadata": {},
   "source": [
    "Stdpopsim Simulation"
   ]
  },
  {
   "cell_type": "code",
   "execution_count": 22,
   "id": "b6af4f9d",
   "metadata": {},
   "outputs": [],
   "source": [
    "import stdpopsim"
   ]
  },
  {
   "cell_type": "code",
   "execution_count": 67,
   "id": "a80f2ac2",
   "metadata": {},
   "outputs": [],
   "source": [
    "num_iter = 1000\n",
    "opt_imputed_beta_std = np.zeros(num_iter)\n",
    "panel = list(range(1, 50))\n",
    "species = stdpopsim.get_species(\"HomSap\")\n",
    "contig = species.get_contig('chr22', length_multiplier=0.2)\n",
    "model = species.get_demographic_model('Africa_1T12')\n",
    "samples = model.get_samples(55)\n",
    "engine = stdpopsim.get_engine(\"msprime\")\n",
    "start = time.time()\n",
    "for i in np.arange(num_iter):\n",
    "    ts = engine.simulate(model, contig, samples, seed=i+1)\n",
    "\n",
    "    beta, y = imputation_accuracy(ts, 0, panel, 350).T\n",
    "    opt_imputed_beta_std[i] = beta[y.argmin()]\n",
    "end = time.time()"
   ]
  },
  {
   "cell_type": "code",
   "execution_count": 68,
   "id": "9488f5ce",
   "metadata": {
    "scrolled": true
   },
   "outputs": [
    {
     "name": "stdout",
     "output_type": "stream",
     "text": [
      "1657.894569158554\n"
     ]
    }
   ],
   "source": [
    "print(end - start)"
   ]
  },
  {
   "cell_type": "code",
   "execution_count": 41,
   "id": "1c609936",
   "metadata": {},
   "outputs": [],
   "source": [
    "# Compute Ne with watterson\n",
    "species = stdpopsim.get_species(\"HomSap\")\n",
    "contig = species.get_contig('chr22', length_multiplier=0.2)\n",
    "model = species.get_demographic_model('Africa_1T12')\n",
    "samples = model.get_samples(1000)\n",
    "engine = stdpopsim.get_engine(\"msprime\")"
   ]
  },
  {
   "cell_type": "code",
   "execution_count": 42,
   "id": "46d73e2a",
   "metadata": {},
   "outputs": [],
   "source": [
    "#watterson\n",
    "segregating_sites = []\n",
    "for _ in np.arange(50):\n",
    "    ts = engine.simulate(model, contig, samples, seed=_+1)\n",
    "    segregating_sites.append(ts.segregating_sites(span_normalise=True))\n",
    "harmonic = (1/np.arange(1, 1000)).sum()\n",
    "Ne=np.mean(segregating_sites)/(harmonic*4*contig.mutation_rate)"
   ]
  },
  {
   "cell_type": "code",
   "execution_count": 43,
   "id": "b962600f",
   "metadata": {},
   "outputs": [
    {
     "data": {
      "text/plain": [
       "16041.458728720134"
      ]
     },
     "execution_count": 43,
     "metadata": {},
     "output_type": "execute_result"
    }
   ],
   "source": [
    "Ne"
   ]
  },
  {
   "cell_type": "code",
   "execution_count": 408,
   "id": "38d4daab",
   "metadata": {},
   "outputs": [],
   "source": [
    "panel = list(range(1, 1001))\n",
    "species = stdpopsim.get_species(\"HomSap\")\n",
    "contig = species.get_contig('chr2', length_multiplier=0.413)\n",
    "model = species.get_demographic_model('Africa_1T12')\n",
    "samples = model.get_samples(1000)\n",
    "engine = stdpopsim.get_engine(\"msprime\")"
   ]
  },
  {
   "cell_type": "code",
   "execution_count": 397,
   "id": "35c3724b",
   "metadata": {},
   "outputs": [
    {
     "name": "stdout",
     "output_type": "stream",
     "text": [
      "10.0025927\n"
     ]
    }
   ],
   "source": [
    "contig = species.get_contig('chr2', length_multiplier=0.413)\n",
    "print(contig.length/1e7)"
   ]
  },
  {
   "cell_type": "code",
   "execution_count": 722,
   "id": "e27096bc",
   "metadata": {},
   "outputs": [
    {
     "name": "stdout",
     "output_type": "stream",
     "text": [
      "DemographyDebugger\n",
      "╠════════════════════════════════╗\n",
      "║ Epoch[0]: [0, 205) generations ║\n",
      "╠════════════════════════════════╝\n",
      "╟    Populations (total=1 active=1)\n",
      "║    ┌────────────────────────────────────────────┐\n",
      "║    │       │      start│       end│growth_rate  │\n",
      "║    ├────────────────────────────────────────────┤\n",
      "║    │  pop_0│   432124.6│   14474.0│ 0.0166      │\n",
      "║    └────────────────────────────────────────────┘\n",
      "╟    Events @ generation 205\n",
      "║    ┌───────────────────────────────────────────────────────────────────────────────────┐\n",
      "║    │   time│type        │parameters           │effect                                  │\n",
      "║    ├───────────────────────────────────────────────────────────────────────────────────┤\n",
      "║    │  204.6│Population  │population=0,        │initial_size → 1.4e+04 and growth_rate  │\n",
      "║    │       │parameter   │initial_size=14474,  │→ 0 for population 0                    │\n",
      "║    │       │change      │growth_rate=0        │                                        │\n",
      "║    └───────────────────────────────────────────────────────────────────────────────────┘\n",
      "╠═══════════════════════════════════════╗\n",
      "║ Epoch[1]: [205, 5.92e+03) generations ║\n",
      "╠═══════════════════════════════════════╝\n",
      "╟    Populations (total=1 active=1)\n",
      "║    ┌───────────────────────────────────────────┐\n",
      "║    │       │     start│       end│growth_rate  │\n",
      "║    ├───────────────────────────────────────────┤\n",
      "║    │  pop_0│   14474.0│   14474.0│ 0           │\n",
      "║    └───────────────────────────────────────────┘\n",
      "╟    Events @ generation 5.92e+03\n",
      "║    ┌───────────────────────────────────────────────────────────────────────────────┐\n",
      "║    │  time│type        │parameters         │effect                                 │\n",
      "║    ├───────────────────────────────────────────────────────────────────────────────┤\n",
      "║    │  5920│Population  │population=0,      │initial_size → 7.3e+03 for population  │\n",
      "║    │      │parameter   │initial_size=7310  │0                                      │\n",
      "║    │      │change      │                   │                                       │\n",
      "║    └───────────────────────────────────────────────────────────────────────────────┘\n",
      "╠═══════════════════════════════════════╗\n",
      "║ Epoch[2]: [5.92e+03, inf) generations ║\n",
      "╠═══════════════════════════════════════╝\n",
      "╟    Populations (total=1 active=1)\n",
      "║    ┌─────────────────────────────────────────┐\n",
      "║    │       │    start│      end│growth_rate  │\n",
      "║    ├─────────────────────────────────────────┤\n",
      "║    │  pop_0│   7310.0│   7310.0│ 0           │\n",
      "║    └─────────────────────────────────────────┘\n"
     ]
    }
   ],
   "source": [
    "species = stdpopsim.get_species(\"HomSap\")\n",
    "model = species.get_demographic_model('Africa_1T12')\n",
    "model.get_demography_debugger().print_history()"
   ]
  },
  {
   "cell_type": "code",
   "execution_count": 411,
   "id": "ca636823",
   "metadata": {},
   "outputs": [],
   "source": [
    "h = []\n",
    "samples = model.get_samples(2)\n",
    "engine = stdpopsim.get_engine(\"msprime\")\n",
    "for _ in np.arange(100):\n",
    "    ts = engine.simulate(model, contig, samples, seed=_+1)\n",
    "    h.append(ts.first().get_tmrca(0, 1))\n",
    "Ne = np.mean(h)"
   ]
  },
  {
   "cell_type": "code",
   "execution_count": 412,
   "id": "5cab08a3",
   "metadata": {},
   "outputs": [
    {
     "data": {
      "text/plain": [
       "17463.325368037087"
      ]
     },
     "execution_count": 412,
     "metadata": {},
     "output_type": "execute_result"
    }
   ],
   "source": [
    "Ne"
   ]
  },
  {
   "cell_type": "code",
   "execution_count": 413,
   "id": "42726c52",
   "metadata": {},
   "outputs": [
    {
     "data": {
      "text/plain": [
       "1.29e-08"
      ]
     },
     "execution_count": 413,
     "metadata": {},
     "output_type": "execute_result"
    }
   ],
   "source": [
    "contig.mutation_rate"
   ]
  },
  {
   "cell_type": "code",
   "execution_count": 417,
   "id": "73ea3c2f",
   "metadata": {},
   "outputs": [
    {
     "data": {
      "text/plain": [
       "1.1054289277533446e-08"
      ]
     },
     "execution_count": 417,
     "metadata": {},
     "output_type": "execute_result"
    }
   ],
   "source": [
    "contig.recombination_map.mean_rate"
   ]
  },
  {
   "cell_type": "markdown",
   "id": "f4e9bdb7",
   "metadata": {},
   "source": [
    "seq = 1e8, panel=1e3, MAF>0.2"
   ]
  },
  {
   "cell_type": "code",
   "execution_count": 10,
   "id": "d17b3ffb",
   "metadata": {},
   "outputs": [],
   "source": [
    "import pickle\n",
    "data = []\n",
    "betas = []\n",
    "interval = []\n",
    "error = []\n",
    "for array in range(1000):\n",
    "    with open('results_alg1_std/opt_imputed_beta%s.pkl' % array, 'rb') as f:\n",
    "        word = pickle.load(f)\n",
    "    data.append(word[0])\n",
    "\n",
    "interval = [word[0] for word in data]\n",
    "betas = [word[0][word[1]] for word in data]\n",
    "error = [word[2] for word in data]"
   ]
  },
  {
   "cell_type": "code",
   "execution_count": 11,
   "id": "7a2dcd39",
   "metadata": {},
   "outputs": [
    {
     "data": {
      "image/png": "[encoded data removed]",
      "text/plain": [
       "<Figure size 576x360 with 1 Axes>"
      ]
     },
     "metadata": {
      "needs_background": "light"
     },
     "output_type": "display_data"
    }
   ],
   "source": [
    "unique_list = np.array(interval[0]).reshape(1,2)\n",
    "count = np.array([1])\n",
    "for i in range(1,np.shape(interval)[0]):\n",
    "\n",
    "        if 2 in np.sum(unique_list==interval[i], axis=1):\n",
    "            count[np.where(np.sum(unique_list==interval[i], axis=1)==2)] += 1\n",
    "        else:\n",
    "            unique_list = np.vstack((unique_list, interval[i]))\n",
    "            count = np.append(count, 1)\n",
    "assert(sum(count)==1000)\n",
    "\n",
    "Ne = 17463\n",
    "rho = 2*1.1054289277533446e-08*Ne\n",
    "theta = 2*1.29e-08*Ne\n",
    "N = np.size(range(1, 1001))\n",
    "p_theta = (1-np.exp(-theta/N))/3\n",
    "p_rho = (1-np.exp(-rho/N))/N\n",
    "alpha_theta = -np.log(p_theta/(1 - 3*p_theta))\n",
    "beta_rho = -np.log(p_rho/(1 - N*p_rho))\n",
    "true_beta = beta_rho/alpha_theta\n",
    "\n",
    "plt.xlabel(r\"optimal $\\log(1+\\beta)$ interval per iteration\")\n",
    "plt.ylabel(r\"number of optimal interval\")\n",
    "plt.axvline(x=np.log1p(true_beta), color='r', linestyle='dashed', linewidth=2)\n",
    "plt.xlim([0, 3.5])\n",
    "plt.ylim([0, 700])\n",
    "for i in range(0, np.shape(unique_list)[0]):\n",
    "    unique_list[i] = rand_jitter(unique_list[i], i)\n",
    "    w = np.log1p(unique_list[i][1]) - np.log1p(unique_list[i][0])\n",
    "    h = count[i]\n",
    "    plt.bar(x=np.log1p(unique_list[i][0]), height = h, width = w, align = 'edge', color = 'b', edgecolor = 'black',alpha=0.45, linestyle='-', linewidth=0.5)\n",
    "\n",
    "plt.tight_layout()    \n",
    "plt.savefig('hist_alg1_std.pdf')"
   ]
  },
  {
   "cell_type": "code",
   "execution_count": 12,
   "id": "8312903e",
   "metadata": {},
   "outputs": [
    {
     "data": {
      "text/plain": [
       "0.733"
      ]
     },
     "execution_count": 12,
     "metadata": {},
     "output_type": "execute_result"
    }
   ],
   "source": [
    "rate = sum([int(word[0]<=true_beta<=word[1]) for word in interval])/1000\n",
    "rate"
   ]
  },
  {
   "cell_type": "code",
   "execution_count": 486,
   "id": "6bf727fa",
   "metadata": {},
   "outputs": [
    {
     "data": {
      "text/plain": [
       "0.733"
      ]
     },
     "execution_count": 486,
     "metadata": {},
     "output_type": "execute_result"
    }
   ],
   "source": [
    "# number of beta in the interval\n",
    "true_beta = 1.37956799394278\n",
    "rate = sum([int(word[0]<=true_beta<=word[1]) for word in interval])/1000\n",
    "rate"
   ]
  },
  {
   "cell_type": "markdown",
   "id": "c670cb34",
   "metadata": {},
   "source": [
    "Diploid Genotype Phasing"
   ]
  },
  {
   "cell_type": "code",
   "execution_count": 102,
   "id": "c364ea01",
   "metadata": {},
   "outputs": [
    {
     "data": {
      "image/png": "[encoded data removed]",
      "text/plain": [
       "<Figure size 576x360 with 1 Axes>"
      ]
     },
     "metadata": {},
     "output_type": "display_data"
    }
   ],
   "source": [
    "with open('results_std/beta_y.pkl', 'rb') as f:\n",
    "        results = pickle.load(f)\n",
    "beta = results[0][0]\n",
    "y = results[0][1]\n",
    "for i in np.arange(np.size(beta)-1):\n",
    "    x = np.linspace(beta[i],beta[i+1],10)\n",
    "    ys = y[i]*np.ones(np.size(x))\n",
    "    plt.plot(np.log1p(x), ys, color = 'C0')\n",
    "plt.plot(np.log1p(beta[-1]), y[-1], color='C0')\n",
    "plt.xlabel(r'$\\log(1+\\beta)$')\n",
    "plt.ylabel('switch error')\n",
    "plt.tight_layout()\n",
    "plt.savefig('alg2_error.pdf')"
   ]
  },
  {
   "cell_type": "code",
   "execution_count": 103,
   "id": "ed88e1c6",
   "metadata": {},
   "outputs": [],
   "source": [
    "import pickle\n",
    "data = []\n",
    "betas = []\n",
    "interval = []\n",
    "error = []\n",
    "for array in range(1000):\n",
    "    try:\n",
    "        with open('results/opt_switch_beta%s.pkl' % array, 'rb') as f:\n",
    "            word = pickle.load(f)\n",
    "        data.append(word[0])\n",
    "    except FileNotFoundError:\n",
    "        continue\n",
    "        \n",
    "interval = [word[0] for word in data]\n",
    "betas = [word[0][word[1]] for word in data]\n",
    "error = [word[2] for word in data]"
   ]
  },
  {
   "cell_type": "code",
   "execution_count": 105,
   "id": "3af51066",
   "metadata": {
    "scrolled": true
   },
   "outputs": [
    {
     "data": {
      "image/png": "[encoded data removed]",
      "text/plain": [
       "<Figure size 576x360 with 1 Axes>"
      ]
     },
     "metadata": {},
     "output_type": "display_data"
    }
   ],
   "source": [
    "unique_list = np.array(interval[0]).reshape(1,2)\n",
    "count = np.array([1])\n",
    "for i in range(1,np.shape(interval)[0]):\n",
    "\n",
    "        if 2 in np.sum(unique_list==interval[i], axis=1):\n",
    "            count[np.where(np.sum(unique_list==interval[i], axis=1)==2)] += 1\n",
    "        else:\n",
    "            unique_list = np.vstack((unique_list, interval[i]))\n",
    "            count = np.append(count, 1)\n",
    "assert(sum(count)==1000)\n",
    "rho = 4e-4\n",
    "theta = 4e-4\n",
    "panel = np.arange(2, 102)\n",
    "N = np.size(panel)\n",
    "p_theta = (1-np.exp(-theta/N))/3\n",
    "p_rho = (1-np.exp(-rho/N))/N\n",
    "alpha_theta = -np.log(p_theta/(1 - 3*p_theta))\n",
    "beta_rho = -np.log(p_rho/(1 - N*p_rho))\n",
    "true_beta = beta_rho/alpha_theta\n",
    "plt.xlabel(r\"optimal $\\log(1+\\beta)$ interval per iteration\")\n",
    "plt.ylabel(r\"number of optimal interval\")\n",
    "plt.axvline(x=np.log1p(true_beta), color='r', linestyle='dashed', linewidth=2)\n",
    "plt.xlim([0, 7.5])\n",
    "plt.ylim([0, 16.5])\n",
    "for i in range(0, np.shape(unique_list)[0]):\n",
    "    unique_list[i] = rand_jitter(unique_list[i], i)\n",
    "    w = np.log1p(unique_list[i][1]) - np.log1p(unique_list[i][0])\n",
    "    h = count[i]\n",
    "    plt.bar(x=np.log1p(unique_list[i][0]), height = h, width = w, align = 'edge', color = 'b', edgecolor = 'black',alpha=0.45, linestyle='-', linewidth=0.5)\n",
    "\n",
    "plt.tight_layout()    \n",
    "plt.savefig('hist_alg2.pdf')"
   ]
  },
  {
   "cell_type": "code",
   "execution_count": 808,
   "id": "044fc391",
   "metadata": {},
   "outputs": [
    {
     "data": {
      "text/plain": [
       "array([15., 16.])"
      ]
     },
     "execution_count": 808,
     "metadata": {},
     "output_type": "execute_result"
    }
   ],
   "source": [
    "unique_list[count.argmax()]"
   ]
  },
  {
   "cell_type": "code",
   "execution_count": 811,
   "id": "148f0705",
   "metadata": {},
   "outputs": [
    {
     "data": {
      "text/plain": [
       "1.259210738774046"
      ]
     },
     "execution_count": 811,
     "metadata": {},
     "output_type": "execute_result"
    }
   ],
   "source": [
    "true_beta"
   ]
  },
  {
   "cell_type": "code",
   "execution_count": 809,
   "id": "ff240e73",
   "metadata": {},
   "outputs": [
    {
     "data": {
      "text/plain": [
       "23.0"
      ]
     },
     "execution_count": 809,
     "metadata": {},
     "output_type": "execute_result"
    }
   ],
   "source": [
    "from collections import Counter\n",
    "ctr = Counter(betas)\n",
    "value, its_frequency = ctr.most_common(1)[0]\n",
    "value"
   ]
  },
  {
   "cell_type": "code",
   "execution_count": 53,
   "id": "743ad280",
   "metadata": {},
   "outputs": [
    {
     "data": {
      "image/png": "[encoded data removed]",
      "text/plain": [
       "<Figure size 576x360 with 1 Axes>"
      ]
     },
     "metadata": {},
     "output_type": "display_data"
    }
   ],
   "source": [
    "switch_erroro = []\n",
    "for array in range(20):\n",
    "    with open('switch_error/switch_error%s.pkl' % array, 'rb') as f:\n",
    "        switch_erroro.append(pickle.load(f)) \n",
    "switch_erroro = list(np.concatenate(switch_erroro).flat)\n",
    "switch_errort = []\n",
    "for array in range(20):\n",
    "    with open('switch_error/switch_errors%s.pkl' % array, 'rb') as f:\n",
    "        switch_errort.append(pickle.load(f)) \n",
    "switch_errort = list(np.concatenate(switch_errort).flat)\n",
    "#plt.style.use('seaborn-deep')\n",
    "bins = np.linspace(0, 0.04, 100)\n",
    "\n",
    "plt.xlim([0, 0.02])\n",
    "plt.ylim([0, 85])\n",
    "plt.hist(switch_erroro, bins, alpha=0.5, edgecolor='k', label='optimal')\n",
    "plt.hist(switch_errort, bins, alpha=0.5, edgecolor='k', label='suboptimal')\n",
    "#plt.hist([diff_std, diff_stds], bins, label=['optimal', 'suboptimal'])\n",
    "plt.xlabel(r\"switch error\")\n",
    "plt.ylabel(r\"density\")\n",
    "plt.legend(loc='upper right')\n",
    "plt.tight_layout()\n",
    "plt.savefig('diff1.pdf')"
   ]
  },
  {
   "cell_type": "markdown",
   "id": "18de14cf",
   "metadata": {},
   "source": [
    "Stdpopsim"
   ]
  },
  {
   "cell_type": "code",
   "execution_count": 49,
   "id": "b9adb266",
   "metadata": {},
   "outputs": [],
   "source": [
    "import pickle\n",
    "data = []\n",
    "betas = []\n",
    "interval = []\n",
    "error = []\n",
    "for array in range(1000):\n",
    "    try:\n",
    "        with open('results_std/opt_switch_beta%s.pkl' % array, 'rb') as f:\n",
    "            word = pickle.load(f)\n",
    "        data.append(word[0])\n",
    "    except FileNotFoundError:\n",
    "        continue\n",
    "        \n",
    "interval = [word[0] for word in data]\n",
    "betas = [word[0][word[1]] for word in data]\n",
    "error = [word[2] for word in data]"
   ]
  },
  {
   "cell_type": "code",
   "execution_count": 846,
   "id": "5c1ba727",
   "metadata": {},
   "outputs": [],
   "source": [
    "# Compute Ne with watterson\n",
    "species = stdpopsim.get_species(\"HomSap\")\n",
    "contig = species.get_contig('chr22', length_multiplier=0.2)\n",
    "model = species.get_demographic_model('Africa_1T12')\n",
    "samples = model.get_samples(52)\n",
    "engine = stdpopsim.get_engine(\"msprime\")\n",
    "ts = engine.simulate(model, contig, samples)"
   ]
  },
  {
   "cell_type": "code",
   "execution_count": 218,
   "id": "5c548a97",
   "metadata": {},
   "outputs": [
    {
     "name": "stderr",
     "output_type": "stream",
     "text": [
      "/Users/yifanjin/.pyenv/versions/3.10.0/lib/python3.10/site-packages/stdpopsim/engines.py:120: UserWarning: The demographic model has mutation rate 2.36e-08, but this simulation used the contig's mutation rate 1.29e-08. Diversity levels may be different than expected for this species. For details see documentation at https://popsim-consortium.github.io/stdpopsim-docs/stable/tutorial.html\n",
      "  warnings.warn(\n"
     ]
    }
   ],
   "source": [
    "#watterson\n",
    "segregating_sites = []\n",
    "for _ in np.arange(500):\n",
    "    ts = engine.simulate(model, contig, samples, seed=_+1)\n",
    "    segregating_sites.append(ts.segregating_sites(span_normalise=True))\n",
    "harmonic = (1/np.arange(1, 52)).sum()\n",
    "Ne=np.mean(segregating_sites)/(harmonic*4*contig.mutation_rate)"
   ]
  },
  {
   "cell_type": "code",
   "execution_count": 230,
   "id": "53ca2220",
   "metadata": {},
   "outputs": [
    {
     "data": {
      "text/plain": [
       "10851.467005645269"
      ]
     },
     "execution_count": 230,
     "metadata": {},
     "output_type": "execute_result"
    }
   ],
   "source": [
    "Ne"
   ]
  },
  {
   "cell_type": "code",
   "execution_count": 50,
   "id": "d3209ed5",
   "metadata": {
    "scrolled": true
   },
   "outputs": [
    {
     "data": {
      "image/png": "[encoded data removed]",
      "text/plain": [
       "<Figure size 576x360 with 1 Axes>"
      ]
     },
     "metadata": {},
     "output_type": "display_data"
    }
   ],
   "source": [
    "unique_list = np.array(interval[0]).reshape(1,2)\n",
    "count = np.array([1])\n",
    "for i in range(1,np.shape(interval)[0]):\n",
    "\n",
    "        if 2 in np.sum(unique_list==interval[i], axis=1):\n",
    "            count[np.where(np.sum(unique_list==interval[i], axis=1)==2)] += 1\n",
    "        else:\n",
    "            unique_list = np.vstack((unique_list, interval[i]))\n",
    "            count = np.append(count, 1)\n",
    "\n",
    "Ne=16995\n",
    "rho = 4*1.4445022767788227e-08*Ne\n",
    "theta = 4*1.29e-08*Ne\n",
    "panel = np.arange(2, 102)\n",
    "N = np.size(panel)\n",
    "p_theta = (1-np.exp(-theta/N))/3\n",
    "p_rho = (1-np.exp(-rho/N))/N\n",
    "alpha_theta = -np.log(p_theta/(1 - 3*p_theta))\n",
    "beta_rho = -np.log(p_rho/(1 - N*p_rho))\n",
    "true_beta = beta_rho/alpha_theta\n",
    "plt.xlabel(r\"optimal $\\log(1+\\beta)$ interval per iteration\")\n",
    "plt.ylabel(r\"number of optimal interval\")\n",
    "plt.axvline(x=np.log1p(true_beta), color='r', linestyle='dashed', linewidth=2)\n",
    "plt.xlim([0, 6])\n",
    "plt.ylim([0, 45])\n",
    "for i in range(0, np.shape(unique_list)[0]):\n",
    "    unique_list[i] = rand_jitter(unique_list[i], i)\n",
    "    w = np.log1p(unique_list[i][1]) - np.log1p(unique_list[i][0])\n",
    "    h = count[i]\n",
    "    plt.bar(x=np.log1p(unique_list[i][0]), height = h, width = w, align = 'edge', color = 'b', edgecolor = 'black',alpha=0.45, linestyle='-', linewidth=0.5)\n",
    "\n",
    "plt.tight_layout()\n",
    "plt.savefig('hist_alg2_std.pdf')"
   ]
  },
  {
   "cell_type": "code",
   "execution_count": 783,
   "id": "1e65de89",
   "metadata": {},
   "outputs": [
    {
     "data": {
      "text/plain": [
       "array([12.03987637, 12.976899  ])"
      ]
     },
     "execution_count": 783,
     "metadata": {},
     "output_type": "execute_result"
    }
   ],
   "source": [
    "unique_list[count.argmax()]"
   ]
  },
  {
   "cell_type": "code",
   "execution_count": 784,
   "id": "544b5b85",
   "metadata": {},
   "outputs": [
    {
     "data": {
      "text/plain": [
       "12.0"
      ]
     },
     "execution_count": 784,
     "metadata": {},
     "output_type": "execute_result"
    }
   ],
   "source": [
    "from collections import Counter\n",
    "ctr = Counter(betas)\n",
    "value, its_frequency = ctr.most_common(3)[0]\n",
    "value"
   ]
  },
  {
   "cell_type": "code",
   "execution_count": 232,
   "id": "38369d80",
   "metadata": {},
   "outputs": [
    {
     "data": {
      "text/plain": [
       "1.213482406218651"
      ]
     },
     "execution_count": 232,
     "metadata": {},
     "output_type": "execute_result"
    }
   ],
   "source": [
    "true_beta"
   ]
  },
  {
   "cell_type": "code",
   "execution_count": 54,
   "id": "5e7f7b6a",
   "metadata": {},
   "outputs": [
    {
     "data": {
      "image/png": "[encoded data removed]",
      "text/plain": [
       "<Figure size 576x360 with 1 Axes>"
      ]
     },
     "metadata": {},
     "output_type": "display_data"
    }
   ],
   "source": [
    "switch_error_stdo = []\n",
    "for array in range(20):\n",
    "    with open('switch_error_std/switch_error_std%s.pkl' % array, 'rb') as f:\n",
    "        switch_error_stdo.append(pickle.load(f)) \n",
    "switch_error_stdo = list(np.concatenate(switch_error_stdo).flat)\n",
    "switch_error_stds = []\n",
    "for array in range(20):\n",
    "    with open('switch_error_std1/switch_error_std%s.pkl' % array, 'rb') as f:\n",
    "        switch_error_stds.append(pickle.load(f)) \n",
    "switch_error_stds = list(np.concatenate(switch_error_stds).flat)\n",
    "\n",
    "#plt.style.use('seaborn-deep')\n",
    "bins = np.linspace(0, 0.04, 100)\n",
    "\n",
    "plt.xlim([0, 0.035])\n",
    "plt.ylim([0, 80])\n",
    "plt.hist(switch_error_stdo, bins, alpha=0.5, edgecolor='k', label='optimal')\n",
    "plt.hist(switch_error_stds, bins, alpha=0.5, edgecolor='k', label='suboptimal')\n",
    "#plt.hist([diff_std, diff_stds], bins, label=['optimal', 'suboptimal'])\n",
    "plt.xlabel(r\"switch error\")\n",
    "plt.ylabel(r\"density\")\n",
    "plt.legend(loc='upper right')\n",
    "plt.tight_layout()\n",
    "plt.savefig('diff2.pdf')"
   ]
  },
  {
   "cell_type": "code",
   "execution_count": 150,
   "id": "b2000d73",
   "metadata": {},
   "outputs": [
    {
     "name": "stderr",
     "output_type": "stream",
     "text": [
      "/var/folders/w3/12x3qx1j0d15jv395lym1qs00000gn/T/ipykernel_68209/2347695875.py:41: RuntimeWarning: invalid value encountered in log1p\n",
      "  w = np.log1p(unique_list[i][1]) - np.log1p(unique_list[i][0])\n",
      "/var/folders/w3/12x3qx1j0d15jv395lym1qs00000gn/T/ipykernel_68209/2347695875.py:43: RuntimeWarning: invalid value encountered in log1p\n",
      "  plt.bar(x=np.log1p(unique_list[i][0]), height = h, width = w, align = 'edge', color = 'b', edgecolor = 'black',alpha=0.45, linestyle='-', linewidth=0.5)\n"
     ]
    },
    {
     "data": {
      "image/png": "[encoded data removed]",
      "text/plain": [
       "<Figure size 432x288 with 1 Axes>"
      ]
     },
     "metadata": {},
     "output_type": "display_data"
    }
   ],
   "source": [
    "import pickle\n",
    "data = []\n",
    "betas = []\n",
    "interval = []\n",
    "error = []\n",
    "for array in range(1000):\n",
    "    with open('alg1_loss2/opt_imputed_beta%s.pkl' % array, 'rb') as f:\n",
    "        word = pickle.load(f)\n",
    "    data.append(word[0])\n",
    "\n",
    "interval = [word[0] for word in data]\n",
    "betas = [word[0][word[1]] for word in data]\n",
    "error = [word[2] for word in data]\n",
    "\n",
    "unique_list = np.array(interval[0]).reshape(1,2)\n",
    "count = np.array([1])\n",
    "for i in range(1,np.shape(interval)[0]):\n",
    "\n",
    "        if 2 in np.sum(unique_list==interval[i], axis=1):\n",
    "            count[np.where(np.sum(unique_list==interval[i], axis=1)==2)] += 1\n",
    "        else:\n",
    "            unique_list = np.vstack((unique_list, interval[i]))\n",
    "            count = np.append(count, 1)\n",
    "assert(sum(count)==1000)\n",
    "\n",
    "rho = 4e-4\n",
    "theta = 4e-4\n",
    "N = np.size(range(1, 1001))\n",
    "p_theta = (1-np.exp(-theta/N))/3\n",
    "p_rho = (1-np.exp(-rho/N))/N\n",
    "alpha_theta = -np.log(p_theta/(1 - 3*p_theta))\n",
    "beta_rho = -np.log(p_rho/(1 - N*p_rho))\n",
    "true_beta = beta_rho/alpha_theta\n",
    "plt.axvline(x=np.log1p(true_beta), color='r', linestyle='dashed', linewidth=2)\n",
    "plt.xlim([0, 3.5])\n",
    "plt.ylim([0, 600])\n",
    "plt.xlabel(r\"optimal $\\log(1+\\beta)$ interval per iteration\")\n",
    "plt.ylabel(r\"number of optimal interval\")\n",
    "for i in range(0, np.shape(unique_list)[0]):\n",
    "    unique_list[i] = rand_jitter(unique_list[i], i)\n",
    "    w = np.log1p(unique_list[i][1]) - np.log1p(unique_list[i][0])\n",
    "    h = count[i]\n",
    "    plt.bar(x=np.log1p(unique_list[i][0]), height = h, width = w, align = 'edge', color = 'b', edgecolor = 'black',alpha=0.45, linestyle='-', linewidth=0.5)\n",
    "\n",
    "plt.tight_layout()    \n",
    "plt.savefig('hist_alg1_loss2.pdf')"
   ]
  },
  {
   "cell_type": "code",
   "execution_count": 18,
   "id": "aaafad46",
   "metadata": {},
   "outputs": [
    {
     "name": "stderr",
     "output_type": "stream",
     "text": [
      "/var/folders/w3/12x3qx1j0d15jv395lym1qs00000gn/T/ipykernel_25562/3323722023.py:47: RuntimeWarning: invalid value encountered in log1p\n",
      "  w = np.log1p(unique_list[i][1]) - np.log1p(unique_list[i][0])\n",
      "/var/folders/w3/12x3qx1j0d15jv395lym1qs00000gn/T/ipykernel_25562/3323722023.py:49: RuntimeWarning: invalid value encountered in log1p\n",
      "  ax1.bar(x=np.log1p(unique_list[i][0]), height = h, width = w, align = 'edge', color = 'b', edgecolor = 'black',alpha=0.45, linestyle='-', linewidth=0.5)\n"
     ]
    },
    {
     "data": {
      "image/png": "[encoded data removed]",
      "text/plain": [
       "<Figure size 576x360 with 2 Axes>"
      ]
     },
     "metadata": {
      "needs_background": "light"
     },
     "output_type": "display_data"
    }
   ],
   "source": [
    "import pickle\n",
    "\n",
    "fig, [ax1, ax2] = plt.subplots(nrows=1, ncols=2)\n",
    "\n",
    "data = []\n",
    "betas = []\n",
    "interval = []\n",
    "error = []\n",
    "for array in range(500):\n",
    "    with open('results_alg1_updated/opt_imputed_beta%s.pkl' % array, 'rb') as f:\n",
    "        word = pickle.load(f)\n",
    "    data.append(word[0])\n",
    "    data.append(word[1])\n",
    "\n",
    "interval = [word[0] for word in data]\n",
    "betas = [word[0][word[1]] for word in data]\n",
    "error = [word[2] for word in data]\n",
    "\n",
    "unique_list = np.array(interval[0]).reshape(1,2)\n",
    "count = np.array([1])\n",
    "for i in range(1,np.shape(interval)[0]):\n",
    "\n",
    "        if 2 in np.sum(unique_list==interval[i], axis=1):\n",
    "            count[np.where(np.sum(unique_list==interval[i], axis=1)==2)] += 1\n",
    "        else:\n",
    "            unique_list = np.vstack((unique_list, interval[i]))\n",
    "            count = np.append(count, 1)\n",
    "assert(sum(count)==1000)\n",
    "            \n",
    "rho = 4e-4\n",
    "theta = 4e-4\n",
    "N = np.size(range(1, 1001))\n",
    "p_theta = (1-np.exp(-theta/N))/3\n",
    "p_rho = (1-np.exp(-rho/N))/N\n",
    "alpha_theta = -np.log(p_theta/(1 - 3*p_theta))\n",
    "beta_rho = -np.log(p_rho/(1 - N*p_rho))\n",
    "true_beta = beta_rho/alpha_theta\n",
    "\n",
    "ax1.axvline(x=np.log1p(true_beta), color='r', linestyle='dashed', linewidth=2)\n",
    "ax1.set_xlim([0, 3.5])\n",
    "ax1.set_ylim([0, 360])\n",
    "ax1.set_xlabel(r\"optimal $\\log(1+\\beta)$ interval per iteration\")\n",
    "ax1.set_ylabel(r\"number of optimal interval\")\n",
    "ax1.set_title('Hamming')\n",
    "for i in range(0, np.shape(unique_list)[0]):\n",
    "    unique_list[i] = rand_jitter(unique_list[i], i)\n",
    "    w = np.log1p(unique_list[i][1]) - np.log1p(unique_list[i][0])\n",
    "    h = count[i]\n",
    "    ax1.bar(x=np.log1p(unique_list[i][0]), height = h, width = w, align = 'edge', color = 'b', edgecolor = 'black',alpha=0.45, linestyle='-', linewidth=0.5)\n",
    "\n",
    "data = []\n",
    "betas = []\n",
    "interval = []\n",
    "error = []\n",
    "for array in range(1000):\n",
    "    with open('alg1_loss2/opt_imputed_beta%s.pkl' % array, 'rb') as f:\n",
    "        word = pickle.load(f)\n",
    "    data.append(word[0])\n",
    "\n",
    "interval = [word[0] for word in data]\n",
    "betas = [word[0][word[1]] for word in data]\n",
    "error = [word[2] for word in data]\n",
    "\n",
    "unique_list = np.array(interval[0]).reshape(1,2)\n",
    "count = np.array([1])\n",
    "for i in range(1,np.shape(interval)[0]):\n",
    "\n",
    "        if 2 in np.sum(unique_list==interval[i], axis=1):\n",
    "            count[np.where(np.sum(unique_list==interval[i], axis=1)==2)] += 1\n",
    "        else:\n",
    "            unique_list = np.vstack((unique_list, interval[i]))\n",
    "            count = np.append(count, 1)\n",
    "assert(sum(count)==1000)\n",
    "\n",
    "rho = 4e-4\n",
    "theta = 4e-4\n",
    "N = np.size(range(1, 1001))\n",
    "p_theta = (1-np.exp(-theta/N))/3\n",
    "p_rho = (1-np.exp(-rho/N))/N\n",
    "alpha_theta = -np.log(p_theta/(1 - 3*p_theta))\n",
    "beta_rho = -np.log(p_rho/(1 - N*p_rho))\n",
    "true_beta = beta_rho/alpha_theta\n",
    "ax2.axvline(x=np.log1p(true_beta), color='r', linestyle='dashed', linewidth=2)\n",
    "ax2.set_xlim([0, 3.5])\n",
    "ax2.set_ylim([0, 175])\n",
    "ax2.set_xlabel(r\"optimal $\\log(1+\\beta)$ interval per iteration\")\n",
    "ax2.set_ylabel(r\"number of optimal interval\")\n",
    "ax2.set_title('variance-weighted Hamming')\n",
    "for i in range(0, np.shape(unique_list)[0]):\n",
    "    unique_list[i] = rand_jitter(unique_list[i], i)\n",
    "    w = np.log1p(unique_list[i][1]) - np.log1p(unique_list[i][0])\n",
    "    h = count[i]\n",
    "    ax2.bar(x=np.log1p(unique_list[i][0]), height = h, width = w, align = 'edge', color = 'b', edgecolor = 'black',alpha=0.45, linestyle='-', linewidth=0.5)\n",
    "    \n",
    "plt.tight_layout()    \n",
    "plt.savefig('hist_impute.pdf')"
   ]
  },
  {
   "cell_type": "code",
   "execution_count": 14,
   "id": "907b58a1",
   "metadata": {},
   "outputs": [
    {
     "data": {
      "text/plain": [
       "0.246"
      ]
     },
     "execution_count": 14,
     "metadata": {},
     "output_type": "execute_result"
    }
   ],
   "source": [
    "rate = sum([int(word[0]<=true_beta<=word[1]) for word in interval])/1000\n",
    "rate"
   ]
  },
  {
   "cell_type": "code",
   "execution_count": 217,
   "id": "afef603f",
   "metadata": {},
   "outputs": [
    {
     "data": {
      "image/png": "[encoded data removed]",
      "text/plain": [
       "<Figure size 576x360 with 1 Axes>"
      ]
     },
     "metadata": {},
     "output_type": "display_data"
    }
   ],
   "source": [
    "import pickle\n",
    "data = []\n",
    "betas = []\n",
    "interval = []\n",
    "error = []\n",
    "for array in range(1000):\n",
    "    with open('alg1_std_loss2/opt_imputed_beta%s.pkl' % array, 'rb') as f:\n",
    "        word = pickle.load(f)\n",
    "    data.append(word[0])\n",
    "\n",
    "interval = [word[0] for word in data]\n",
    "betas = [word[0][word[1]] for word in data]\n",
    "error = [word[2] for word in data]\n",
    "\n",
    "unique_list = np.array(interval[0]).reshape(1,2)\n",
    "count = np.array([1])\n",
    "for i in range(1,np.shape(interval)[0]):\n",
    "\n",
    "        if 2 in np.sum(unique_list==interval[i], axis=1):\n",
    "            count[np.where(np.sum(unique_list==interval[i], axis=1)==2)] += 1\n",
    "        else:\n",
    "            unique_list = np.vstack((unique_list, interval[i]))\n",
    "            count = np.append(count, 1)\n",
    "assert(sum(count)==1000)\n",
    "\n",
    "Ne = 17463\n",
    "rho = 2*1.1054289277533446e-08*Ne\n",
    "theta = 2*1.29e-08*Ne\n",
    "N = np.size(range(1, 1001))\n",
    "p_theta = (1-np.exp(-theta/N))/3\n",
    "p_rho = (1-np.exp(-rho/N))/N\n",
    "alpha_theta = -np.log(p_theta/(1 - 3*p_theta))\n",
    "beta_rho = -np.log(p_rho/(1 - N*p_rho))\n",
    "true_beta = beta_rho/alpha_theta\n",
    "\n",
    "plt.xlabel(r\"optimal $\\log(1+\\beta)$ interval per iteration\")\n",
    "plt.ylabel(r\"number of optimal interval\")\n",
    "plt.axvline(x=np.log1p(true_beta), color='r', linestyle='dashed', linewidth=2)\n",
    "plt.xlim([0, 3.5])\n",
    "plt.ylim([0, 700])\n",
    "for i in range(0, np.shape(unique_list)[0]):\n",
    "    unique_list[i] = rand_jitter(unique_list[i], i)\n",
    "    w = np.log1p(unique_list[i][1]) - np.log1p(unique_list[i][0])\n",
    "    h = count[i]\n",
    "    plt.bar(x=np.log1p(unique_list[i][0]), height = h, width = w, align = 'edge', color = 'b', edgecolor = 'black',alpha=0.45, linestyle='-', linewidth=0.5)\n",
    "\n",
    "plt.tight_layout()    \n",
    "plt.savefig('hist_alg1_std_loss2.pdf')"
   ]
  },
  {
   "cell_type": "code",
   "execution_count": 17,
   "id": "966d7fdc",
   "metadata": {},
   "outputs": [
    {
     "data": {
      "image/png": "[encoded data removed]",
      "text/plain": [
       "<Figure size 576x360 with 2 Axes>"
      ]
     },
     "metadata": {
      "needs_background": "light"
     },
     "output_type": "display_data"
    }
   ],
   "source": [
    "fig, [ax1, ax2] = plt.subplots(nrows=1, ncols=2)\n",
    "\n",
    "data = []\n",
    "betas = []\n",
    "interval = []\n",
    "error = []\n",
    "for array in range(1000):\n",
    "    with open('results_alg1_std/opt_imputed_beta%s.pkl' % array, 'rb') as f:\n",
    "        word = pickle.load(f)\n",
    "    data.append(word[0])\n",
    "\n",
    "interval = [word[0] for word in data]\n",
    "betas = [word[0][word[1]] for word in data]\n",
    "error = [word[2] for word in data]\n",
    "unique_list = np.array(interval[0]).reshape(1,2)\n",
    "count = np.array([1])\n",
    "for i in range(1,np.shape(interval)[0]):\n",
    "\n",
    "        if 2 in np.sum(unique_list==interval[i], axis=1):\n",
    "            count[np.where(np.sum(unique_list==interval[i], axis=1)==2)] += 1\n",
    "        else:\n",
    "            unique_list = np.vstack((unique_list, interval[i]))\n",
    "            count = np.append(count, 1)\n",
    "assert(sum(count)==1000)\n",
    "\n",
    "Ne = 17463\n",
    "rho = 2*1.1054289277533446e-08*Ne\n",
    "theta = 2*1.29e-08*Ne\n",
    "N = np.size(range(1, 1001))\n",
    "p_theta = (1-np.exp(-theta/N))/3\n",
    "p_rho = (1-np.exp(-rho/N))/N\n",
    "alpha_theta = -np.log(p_theta/(1 - 3*p_theta))\n",
    "beta_rho = -np.log(p_rho/(1 - N*p_rho))\n",
    "true_beta = beta_rho/alpha_theta\n",
    "\n",
    "ax1.set_xlabel(r\"optimal $\\log(1+\\beta)$ interval per iteration\")\n",
    "ax1.set_ylabel(r\"number of optimal interval\")\n",
    "ax1.set_title('Hamming')\n",
    "ax1.axvline(x=np.log1p(true_beta), color='r', linestyle='dashed', linewidth=2)\n",
    "ax1.set_xlim([0, 3.5])\n",
    "ax1.set_ylim([0, 700])\n",
    "for i in range(0, np.shape(unique_list)[0]):\n",
    "    unique_list[i] = rand_jitter(unique_list[i], i)\n",
    "    w = np.log1p(unique_list[i][1]) - np.log1p(unique_list[i][0])\n",
    "    h = count[i]\n",
    "    ax1.bar(x=np.log1p(unique_list[i][0]), height = h, width = w, align = 'edge', color = 'b', edgecolor = 'black',alpha=0.45, linestyle='-', linewidth=0.5)\n",
    "\n",
    "\n",
    "data = []\n",
    "betas = []\n",
    "interval = []\n",
    "error = []\n",
    "for array in range(1000):\n",
    "    with open('alg1_std_loss2/opt_imputed_beta%s.pkl' % array, 'rb') as f:\n",
    "        word = pickle.load(f)\n",
    "    data.append(word[0])\n",
    "\n",
    "interval = [word[0] for word in data]\n",
    "betas = [word[0][word[1]] for word in data]\n",
    "error = [word[2] for word in data]\n",
    "\n",
    "unique_list = np.array(interval[0]).reshape(1,2)\n",
    "count = np.array([1])\n",
    "for i in range(1,np.shape(interval)[0]):\n",
    "\n",
    "        if 2 in np.sum(unique_list==interval[i], axis=1):\n",
    "            count[np.where(np.sum(unique_list==interval[i], axis=1)==2)] += 1\n",
    "        else:\n",
    "            unique_list = np.vstack((unique_list, interval[i]))\n",
    "            count = np.append(count, 1)\n",
    "assert(sum(count)==1000)\n",
    "\n",
    "Ne = 17463\n",
    "rho = 2*1.1054289277533446e-08*Ne\n",
    "theta = 2*1.29e-08*Ne\n",
    "N = np.size(range(1, 1001))\n",
    "p_theta = (1-np.exp(-theta/N))/3\n",
    "p_rho = (1-np.exp(-rho/N))/N\n",
    "alpha_theta = -np.log(p_theta/(1 - 3*p_theta))\n",
    "beta_rho = -np.log(p_rho/(1 - N*p_rho))\n",
    "true_beta = beta_rho/alpha_theta\n",
    "\n",
    "ax2.set_xlabel(r\"optimal $\\log(1+\\beta)$ interval per iteration\")\n",
    "ax2.set_ylabel(r\"number of optimal interval\")\n",
    "ax2.set_title('variance-weighted Hamming')\n",
    "ax2.axvline(x=np.log1p(true_beta), color='r', linestyle='dashed', linewidth=2)\n",
    "ax2.set_xlim([0, 3.5])\n",
    "ax2.set_ylim([0, 250])\n",
    "for i in range(0, np.shape(unique_list)[0]):\n",
    "    unique_list[i] = rand_jitter(unique_list[i], i)\n",
    "    w = np.log1p(unique_list[i][1]) - np.log1p(unique_list[i][0])\n",
    "    h = count[i]\n",
    "    ax2.bar(x=np.log1p(unique_list[i][0]), height = h, width = w, align = 'edge', color = 'b', edgecolor = 'black',alpha=0.45, linestyle='-', linewidth=0.5)\n",
    "\n",
    "plt.tight_layout()    \n",
    "plt.savefig('hist_impute_std.pdf')"
   ]
  },
  {
   "cell_type": "code",
   "execution_count": 16,
   "id": "699ed132",
   "metadata": {},
   "outputs": [
    {
     "data": {
      "text/plain": [
       "0.223"
      ]
     },
     "execution_count": 16,
     "metadata": {},
     "output_type": "execute_result"
    }
   ],
   "source": [
    "rate = sum([int(word[0]<=true_beta<=word[1]) for word in interval])/1000\n",
    "rate"
   ]
  },
  {
   "cell_type": "code",
   "execution_count": 232,
   "id": "db98844d",
   "metadata": {},
   "outputs": [
    {
     "name": "stderr",
     "output_type": "stream",
     "text": [
      "/var/folders/w3/12x3qx1j0d15jv395lym1qs00000gn/T/ipykernel_1582/3528156987.py:44: RuntimeWarning: invalid value encountered in log1p\n",
      "  w = np.log1p(unique_list[i][1]) - np.log1p(unique_list[i][0])\n",
      "/var/folders/w3/12x3qx1j0d15jv395lym1qs00000gn/T/ipykernel_1582/3528156987.py:46: RuntimeWarning: invalid value encountered in log1p\n",
      "  plt.bar(x=np.log1p(unique_list[i][0]), height = h, width = w, align = 'edge', color = 'b', edgecolor = 'black',alpha=0.45, linestyle='-', linewidth=0.5)\n"
     ]
    },
    {
     "data": {
      "image/png": "[encoded data removed]",
      "text/plain": [
       "<Figure size 576x360 with 1 Axes>"
      ]
     },
     "metadata": {},
     "output_type": "display_data"
    }
   ],
   "source": [
    "import pickle\n",
    "data = []\n",
    "betas = []\n",
    "interval = []\n",
    "error = []\n",
    "for array in range(1000):\n",
    "    try:\n",
    "        with open('prephase_loss1/opt_imputed_beta%s.pkl' % array, 'rb') as f:\n",
    "            word = pickle.load(f)\n",
    "        data.append(word[0])\n",
    "    except FileNotFoundError:\n",
    "        continue\n",
    "\n",
    "interval = [word[0] for word in data]\n",
    "betas = [word[0][word[1]] for word in data]\n",
    "error = [word[2] for word in data]\n",
    "\n",
    "unique_list = np.array(interval[0]).reshape(1,2)\n",
    "count = np.array([1])\n",
    "for i in range(1,np.shape(interval)[0]):\n",
    "\n",
    "        if 2 in np.sum(unique_list==interval[i], axis=1):\n",
    "            count[np.where(np.sum(unique_list==interval[i], axis=1)==2)] += 1\n",
    "        else:\n",
    "            unique_list = np.vstack((unique_list, interval[i]))\n",
    "            count = np.append(count, 1)\n",
    "# assert(sum(count)==1000)\n",
    "\n",
    "rho = 4e-4\n",
    "theta = 4e-4\n",
    "N = np.size(range(1, 100))\n",
    "p_theta = (1-np.exp(-theta/N))/3\n",
    "p_rho = (1-np.exp(-rho/N))/N\n",
    "alpha_theta = -np.log(p_theta/(1 - 3*p_theta))\n",
    "beta_rho = -np.log(p_rho/(1 - N*p_rho))\n",
    "true_beta = beta_rho/alpha_theta\n",
    "plt.axvline(x=np.log1p(true_beta), color='r', linestyle='dashed', linewidth=2)\n",
    "plt.xlim([0, 6])\n",
    "plt.ylim([0, 80])\n",
    "plt.xlabel(r\"optimal $\\log(1+\\beta)$ interval per iteration\")\n",
    "plt.ylabel(r\"number of optimal interval\")\n",
    "for i in range(0, np.shape(unique_list)[0]):\n",
    "    unique_list[i] = rand_jitter(unique_list[i], i)\n",
    "    w = np.log1p(unique_list[i][1]) - np.log1p(unique_list[i][0])\n",
    "    h = count[i]\n",
    "    plt.bar(x=np.log1p(unique_list[i][0]), height = h, width = w, align = 'edge', color = 'b', edgecolor = 'black',alpha=0.45, linestyle='-', linewidth=0.5)\n",
    "\n",
    "plt.tight_layout()    \n",
    "plt.savefig('prephase_loss1.pdf')"
   ]
  },
  {
   "cell_type": "code",
   "execution_count": 218,
   "id": "1da7e252",
   "metadata": {
    "scrolled": false
   },
   "outputs": [
    {
     "name": "stderr",
     "output_type": "stream",
     "text": [
      "/var/folders/w3/12x3qx1j0d15jv395lym1qs00000gn/T/ipykernel_1582/2143574501.py:44: RuntimeWarning: invalid value encountered in log1p\n",
      "  w = np.log1p(unique_list[i][1]) - np.log1p(unique_list[i][0])\n",
      "/var/folders/w3/12x3qx1j0d15jv395lym1qs00000gn/T/ipykernel_1582/2143574501.py:46: RuntimeWarning: invalid value encountered in log1p\n",
      "  plt.bar(x=np.log1p(unique_list[i][0]), height = h, width = w, align = 'edge', color = 'b', edgecolor = 'black',alpha=0.45, linestyle='-', linewidth=0.5)\n"
     ]
    },
    {
     "data": {
      "image/png": "[encoded data removed]",
      "text/plain": [
       "<Figure size 576x360 with 1 Axes>"
      ]
     },
     "metadata": {},
     "output_type": "display_data"
    }
   ],
   "source": [
    "import pickle\n",
    "data = []\n",
    "betas = []\n",
    "interval = []\n",
    "error = []\n",
    "for array in range(1000):\n",
    "    try:\n",
    "        with open('prephase_loss2/opt_imputed_beta%s.pkl' % array, 'rb') as f:\n",
    "            word = pickle.load(f)\n",
    "        data.append(word[0])\n",
    "    except FileNotFoundError:\n",
    "        continue\n",
    "\n",
    "interval = [word[0] for word in data]\n",
    "betas = [word[0][word[1]] for word in data]\n",
    "error = [word[2] for word in data]\n",
    "\n",
    "unique_list = np.array(interval[0]).reshape(1,2)\n",
    "count = np.array([1])\n",
    "for i in range(1,np.shape(interval)[0]):\n",
    "\n",
    "        if 2 in np.sum(unique_list==interval[i], axis=1):\n",
    "            count[np.where(np.sum(unique_list==interval[i], axis=1)==2)] += 1\n",
    "        else:\n",
    "            unique_list = np.vstack((unique_list, interval[i]))\n",
    "            count = np.append(count, 1)\n",
    "# assert(sum(count)==1000)\n",
    "\n",
    "rho = 4e-4\n",
    "theta = 4e-4\n",
    "N = np.size(range(1, 100))\n",
    "p_theta = (1-np.exp(-theta/N))/3\n",
    "p_rho = (1-np.exp(-rho/N))/N\n",
    "alpha_theta = -np.log(p_theta/(1 - 3*p_theta))\n",
    "beta_rho = -np.log(p_rho/(1 - N*p_rho))\n",
    "true_beta = beta_rho/alpha_theta\n",
    "plt.axvline(x=np.log1p(true_beta), color='r', linestyle='dashed', linewidth=2)\n",
    "plt.xlim([0, 7])\n",
    "plt.ylim([0, 40])\n",
    "plt.xlabel(r\"optimal $\\log(1+\\beta)$ interval per iteration\")\n",
    "plt.ylabel(r\"number of optimal interval\")\n",
    "for i in range(0, np.shape(unique_list)[0]):\n",
    "    unique_list[i] = rand_jitter(unique_list[i], i)\n",
    "    w = np.log1p(unique_list[i][1]) - np.log1p(unique_list[i][0])\n",
    "    h = count[i]\n",
    "    plt.bar(x=np.log1p(unique_list[i][0]), height = h, width = w, align = 'edge', color = 'b', edgecolor = 'black',alpha=0.45, linestyle='-', linewidth=0.5)\n",
    "\n",
    "plt.tight_layout()    \n",
    "plt.savefig('prephase_loss2.pdf')"
   ]
  },
  {
   "cell_type": "code",
   "execution_count": 219,
   "id": "61af17d4",
   "metadata": {},
   "outputs": [
    {
     "data": {
      "text/plain": [
       "0.223"
      ]
     },
     "execution_count": 219,
     "metadata": {},
     "output_type": "execute_result"
    }
   ],
   "source": [
    "rate = sum([int(word[0]<=true_beta<=word[1]) for word in interval])/1000\n",
    "rate"
   ]
  },
  {
   "cell_type": "code",
   "execution_count": 240,
   "id": "e881eb31",
   "metadata": {},
   "outputs": [
    {
     "name": "stderr",
     "output_type": "stream",
     "text": [
      "/var/folders/w3/12x3qx1j0d15jv395lym1qs00000gn/T/ipykernel_1582/2018566305.py:43: RuntimeWarning: invalid value encountered in log1p\n",
      "  w = np.log1p(unique_list[i][1]) - np.log1p(unique_list[i][0])\n",
      "/var/folders/w3/12x3qx1j0d15jv395lym1qs00000gn/T/ipykernel_1582/2018566305.py:45: RuntimeWarning: invalid value encountered in log1p\n",
      "  plt.bar(x=np.log1p(unique_list[i][0]), height = h, width = w, align = 'edge', color = 'b', edgecolor = 'black',alpha=0.45, linestyle='-', linewidth=0.5)\n"
     ]
    },
    {
     "data": {
      "image/png": "[encoded data removed]",
      "text/plain": [
       "<Figure size 576x360 with 1 Axes>"
      ]
     },
     "metadata": {},
     "output_type": "display_data"
    }
   ],
   "source": [
    "import pickle\n",
    "data = []\n",
    "betas = []\n",
    "interval = []\n",
    "error = []\n",
    "for array in range(1000):\n",
    "    with open('prephase_loss1_std/opt_imputed_beta%s.pkl' % array, 'rb') as f:\n",
    "        word = pickle.load(f)\n",
    "    data.append(word[0])\n",
    "\n",
    "interval = [word[0] for word in data]\n",
    "betas = [word[0][word[1]] for word in data]\n",
    "error = [word[2] for word in data]\n",
    "\n",
    "unique_list = np.array(interval[0]).reshape(1,2)\n",
    "count = np.array([1])\n",
    "for i in range(1,np.shape(interval)[0]):\n",
    "\n",
    "        if 2 in np.sum(unique_list==interval[i], axis=1):\n",
    "            count[np.where(np.sum(unique_list==interval[i], axis=1)==2)] += 1\n",
    "        else:\n",
    "            unique_list = np.vstack((unique_list, interval[i]))\n",
    "            count = np.append(count, 1)\n",
    "assert(sum(count)==1000)\n",
    "\n",
    "Ne = 17463\n",
    "rho = 2*1.1054289277533446e-08*Ne\n",
    "theta = 2*1.29e-08*Ne\n",
    "N = np.size(range(1, 100))\n",
    "p_theta = (1-np.exp(-theta/N))/3\n",
    "p_rho = (1-np.exp(-rho/N))/N\n",
    "alpha_theta = -np.log(p_theta/(1 - 3*p_theta))\n",
    "beta_rho = -np.log(p_rho/(1 - N*p_rho))\n",
    "true_beta = beta_rho/alpha_theta\n",
    "\n",
    "plt.xlabel(r\"optimal $\\log(1+\\beta)$ interval per iteration\")\n",
    "plt.ylabel(r\"number of optimal interval\")\n",
    "plt.axvline(x=np.log1p(true_beta), color='r', linestyle='dashed', linewidth=2)\n",
    "plt.xlim([0, 3])\n",
    "plt.ylim([0, 300])\n",
    "for i in range(0, np.shape(unique_list)[0]):\n",
    "    unique_list[i] = rand_jitter(unique_list[i], i)\n",
    "    w = np.log1p(unique_list[i][1]) - np.log1p(unique_list[i][0])\n",
    "    h = count[i]\n",
    "    plt.bar(x=np.log1p(unique_list[i][0]), height = h, width = w, align = 'edge', color = 'b', edgecolor = 'black',alpha=0.45, linestyle='-', linewidth=0.5)\n",
    "\n",
    "plt.tight_layout()    \n",
    "plt.savefig('prephase_loss1_std.pdf')"
   ]
  },
  {
   "cell_type": "code",
   "execution_count": 222,
   "id": "50a69bc6",
   "metadata": {},
   "outputs": [
    {
     "name": "stderr",
     "output_type": "stream",
     "text": [
      "/var/folders/w3/12x3qx1j0d15jv395lym1qs00000gn/T/ipykernel_1582/3417450145.py:43: RuntimeWarning: invalid value encountered in log1p\n",
      "  w = np.log1p(unique_list[i][1]) - np.log1p(unique_list[i][0])\n",
      "/var/folders/w3/12x3qx1j0d15jv395lym1qs00000gn/T/ipykernel_1582/3417450145.py:45: RuntimeWarning: invalid value encountered in log1p\n",
      "  plt.bar(x=np.log1p(unique_list[i][0]), height = h, width = w, align = 'edge', color = 'b', edgecolor = 'black',alpha=0.45, linestyle='-', linewidth=0.5)\n"
     ]
    },
    {
     "data": {
      "image/png": "[encoded data removed]",
      "text/plain": [
       "<Figure size 576x360 with 1 Axes>"
      ]
     },
     "metadata": {},
     "output_type": "display_data"
    }
   ],
   "source": [
    "import pickle\n",
    "data = []\n",
    "betas = []\n",
    "interval = []\n",
    "error = []\n",
    "for array in range(1000):\n",
    "    with open('prephase_loss2_std/opt_imputed_beta%s.pkl' % array, 'rb') as f:\n",
    "        word = pickle.load(f)\n",
    "    data.append(word[0])\n",
    "\n",
    "interval = [word[0] for word in data]\n",
    "betas = [word[0][word[1]] for word in data]\n",
    "error = [word[2] for word in data]\n",
    "\n",
    "unique_list = np.array(interval[0]).reshape(1,2)\n",
    "count = np.array([1])\n",
    "for i in range(1,np.shape(interval)[0]):\n",
    "\n",
    "        if 2 in np.sum(unique_list==interval[i], axis=1):\n",
    "            count[np.where(np.sum(unique_list==interval[i], axis=1)==2)] += 1\n",
    "        else:\n",
    "            unique_list = np.vstack((unique_list, interval[i]))\n",
    "            count = np.append(count, 1)\n",
    "assert(sum(count)==1000)\n",
    "\n",
    "Ne = 17463\n",
    "rho = 2*1.1054289277533446e-08*Ne\n",
    "theta = 2*1.29e-08*Ne\n",
    "N = np.size(range(1, 100))\n",
    "p_theta = (1-np.exp(-theta/N))/3\n",
    "p_rho = (1-np.exp(-rho/N))/N\n",
    "alpha_theta = -np.log(p_theta/(1 - 3*p_theta))\n",
    "beta_rho = -np.log(p_rho/(1 - N*p_rho))\n",
    "true_beta = beta_rho/alpha_theta\n",
    "\n",
    "plt.xlabel(r\"optimal $\\log(1+\\beta)$ interval per iteration\")\n",
    "plt.ylabel(r\"number of optimal interval\")\n",
    "plt.axvline(x=np.log1p(true_beta), color='r', linestyle='dashed', linewidth=2)\n",
    "plt.xlim([0, 3])\n",
    "plt.ylim([0, 200])\n",
    "for i in range(0, np.shape(unique_list)[0]):\n",
    "    unique_list[i] = rand_jitter(unique_list[i], i)\n",
    "    w = np.log1p(unique_list[i][1]) - np.log1p(unique_list[i][0])\n",
    "    h = count[i]\n",
    "    plt.bar(x=np.log1p(unique_list[i][0]), height = h, width = w, align = 'edge', color = 'b', edgecolor = 'black',alpha=0.45, linestyle='-', linewidth=0.5)\n",
    "\n",
    "plt.tight_layout()    \n",
    "plt.savefig('prephase_loss2_std.pdf')"
   ]
  }
 ],
 "metadata": {
  "kernelspec": {
   "display_name": "Python 3 (ipykernel)",
   "language": "python",
   "name": "python3"
  },
  "language_info": {
   "codemirror_mode": {
    "name": "ipython",
    "version": 3
   },
   "file_extension": ".py",
   "mimetype": "text/x-python",
   "name": "python",
   "nbconvert_exporter": "python",
   "pygments_lexer": "ipython3",
   "version": "3.10.0"
  }
 },
 "nbformat": 4,
 "nbformat_minor": 5
}
